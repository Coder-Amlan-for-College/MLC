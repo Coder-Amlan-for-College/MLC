{
 "cells": [
  {
   "cell_type": "code",
   "execution_count": 2,
   "id": "1c23e2fc",
   "metadata": {},
   "outputs": [],
   "source": [
    "import math"
   ]
  },
  {
   "cell_type": "code",
   "execution_count": null,
   "id": "7829c1ea",
   "metadata": {},
   "outputs": [],
   "source": [
    "marks = float(input(\"Enter your marks: \"))\n",
    "if(marks>=90 and marks<=100):\n",
    "    print('A')\n",
    "elif(marks>=75):\n",
    "    print('B')\n",
    "elif(marks>=50):\n",
    "    print('C')\n",
    "else:\n",
    "    print('Fail')"
   ]
  },
  {
   "cell_type": "code",
   "execution_count": null,
   "id": "7e205ccd",
   "metadata": {},
   "outputs": [],
   "source": [
    "num = int(input(\"Enter a number: \"))\n",
    "sum = 0\n",
    "while(num > 0):\n",
    "    sum += num%10\n",
    "    num = num//10\n",
    "print(\"Sum of digits: \",sum)\n",
    "    "
   ]
  },
  {
   "cell_type": "code",
   "execution_count": 10,
   "id": "bdbd2c39",
   "metadata": {},
   "outputs": [
    {
     "name": "stdout",
     "output_type": "stream",
     "text": [
      "Enter the number: 121\n",
      "Non prime\n"
     ]
    }
   ],
   "source": [
    "def is_prime(n):\n",
    "    if(n==1):\n",
    "        return False\n",
    "    if(n%2==0):\n",
    "         return False\n",
    "    if(n==2 or n==3):\n",
    "        return True\n",
    "    for i in range(3,int(math.sqrt(n))+1,2):\n",
    "        if(n % i == 0):\n",
    "            return False\n",
    "    return True\n",
    "\n",
    "n = int(input(\"Enter the number: \"))\n",
    "if is_prime(n):\n",
    "    print(\"Prime\")\n",
    "else:\n",
    "    print(\"Non prime\")"
   ]
  },
  {
   "cell_type": "markdown",
   "id": "a516c0b5",
   "metadata": {},
   "source": [
    "### Palindrome"
   ]
  },
  {
   "cell_type": "code",
   "execution_count": 14,
   "id": "1ce34115",
   "metadata": {},
   "outputs": [
    {
     "name": "stdout",
     "output_type": "stream",
     "text": [
      "Enter a word: mom\n",
      "Palindrome\n"
     ]
    }
   ],
   "source": [
    "val = input(\"Enter a word: \")\n",
    "if(val == val[::-1]):\n",
    "    print(\"Palindrome\")\n",
    "else:\n",
    "    print(\"Not Palindrome\")"
   ]
  },
  {
   "cell_type": "code",
   "execution_count": null,
   "id": "bd086c12",
   "metadata": {},
   "outputs": [],
   "source": []
  },
  {
   "cell_type": "code",
   "execution_count": null,
   "id": "4a153d56",
   "metadata": {},
   "outputs": [],
   "source": []
  }
 ],
 "metadata": {
  "kernelspec": {
   "display_name": "Python 3 (ipykernel)",
   "language": "python",
   "name": "python3"
  },
  "language_info": {
   "codemirror_mode": {
    "name": "ipython",
    "version": 3
   },
   "file_extension": ".py",
   "mimetype": "text/x-python",
   "name": "python",
   "nbconvert_exporter": "python",
   "pygments_lexer": "ipython3",
   "version": "3.9.17"
  }
 },
 "nbformat": 4,
 "nbformat_minor": 5
}
