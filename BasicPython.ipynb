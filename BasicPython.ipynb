{
 "cells": [
  {
   "cell_type": "code",
   "execution_count": 1,
   "id": "04d982c7",
   "metadata": {},
   "outputs": [
    {
     "name": "stdout",
     "output_type": "stream",
     "text": [
      "Hello Students\n"
     ]
    }
   ],
   "source": [
    "print(\"Hello Students\")"
   ]
  },
  {
   "cell_type": "code",
   "execution_count": 8,
   "id": "746fc95d",
   "metadata": {},
   "outputs": [
    {
     "name": "stdout",
     "output_type": "stream",
     "text": [
      "Integer: 23 <class 'int'>\n"
     ]
    }
   ],
   "source": [
    "age = 23\n",
    "print(\"Integer:\",age,type(age))"
   ]
  },
  {
   "cell_type": "code",
   "execution_count": 9,
   "id": "16039fb7",
   "metadata": {},
   "outputs": [
    {
     "name": "stdout",
     "output_type": "stream",
     "text": [
      "Float: 5.9 <class 'float'>\n"
     ]
    }
   ],
   "source": [
    "height = 5.9\n",
    "print(\"Float:\",height,type(height))"
   ]
  },
  {
   "cell_type": "code",
   "execution_count": 10,
   "id": "55c80fd3",
   "metadata": {},
   "outputs": [
    {
     "name": "stdout",
     "output_type": "stream",
     "text": [
      "String: Amlan <class 'str'>\n"
     ]
    }
   ],
   "source": [
    "name = \"Amlan\"\n",
    "print(\"String:\",name,type(name))"
   ]
  },
  {
   "cell_type": "code",
   "execution_count": 11,
   "id": "71eeb547",
   "metadata": {},
   "outputs": [
    {
     "name": "stdout",
     "output_type": "stream",
     "text": [
      "Boolean: True <class 'bool'>\n"
     ]
    }
   ],
   "source": [
    "is_student = True\n",
    "print(\"Boolean:\",is_student,type(is_student))"
   ]
  },
  {
   "cell_type": "code",
   "execution_count": 12,
   "id": "4e401ab6",
   "metadata": {},
   "outputs": [
    {
     "name": "stdout",
     "output_type": "stream",
     "text": [
      "Addition: 13\n",
      "Subtraction: 7\n",
      "Division: 3.3333333333333335\n",
      "Floor Division: 3\n",
      "Modulus: 1\n",
      "Exponentiation: 1000\n"
     ]
    }
   ],
   "source": [
    "# Arithmetic Operation\n",
    "a = 10\n",
    "b = 3\n",
    "print(\"Addition:\",a+b)\n",
    "print(\"Subtraction:\",a-b)\n",
    "print(\"Division:\",a/b)\n",
    "print(\"Floor Division:\",a//b)\n",
    "print(\"Modulus:\",a%b)\n",
    "print(\"Exponentiation:\",a**b)"
   ]
  },
  {
   "cell_type": "code",
   "execution_count": 17,
   "id": "2429859d",
   "metadata": {},
   "outputs": [
    {
     "name": "stdout",
     "output_type": "stream",
     "text": [
      "Equals: False\n",
      "Not Equals True\n",
      "Greater than: False\n",
      "Less than True\n",
      "Greater than or equal to False\n",
      "Less than or equal: True\n"
     ]
    }
   ],
   "source": [
    "# Comparison operations\n",
    "x = 5\n",
    "y = 8\n",
    "print(\"Equals:\",x==y)\n",
    "print(\"Not Equals\",x!=y)\n",
    "print(\"Greater than:\",x>y)\n",
    "print(\"Less than\",x<y)\n",
    "print(\"Greater than or equal to\",x>=y)\n",
    "print(\"Less than or equal:\",x<=y)"
   ]
  },
  {
   "cell_type": "code",
   "execution_count": 22,
   "id": "017aee83",
   "metadata": {},
   "outputs": [
    {
     "name": "stdout",
     "output_type": "stream",
     "text": [
      "p and q: False\n",
      "p or q: True\n",
      "not p: False\n",
      "not q: True\n"
     ]
    }
   ],
   "source": [
    "#Logical Operations\n",
    "p = True\n",
    "q = False\n",
    "print(\"p and q:\",p and q)\n",
    "print(\"p or q:\",p or q)\n",
    "print(\"not p:\",not p)\n",
    "print(\"not q:\",not q)"
   ]
  },
  {
   "cell_type": "code",
   "execution_count": 27,
   "id": "5487fe87",
   "metadata": {},
   "outputs": [
    {
     "name": "stdout",
     "output_type": "stream",
     "text": [
      "Concatination: Hello World\n",
      "Repetation: HelloHelloHello\n",
      "Uppercase: HELLO\n",
      "Lowercase hello\n",
      "Contains 'ell': True\n"
     ]
    }
   ],
   "source": [
    "#String operations\n",
    "str1 = \"Hello\"\n",
    "str2 = \"World\"\n",
    "print(\"Concatination:\",str1+\" \"+str2)\n",
    "print(\"Repetation:\",str1*3)\n",
    "print(\"Uppercase:\",str1.upper())\n",
    "print(\"Lowercase\",str1.lower())\n",
    "print(\"Contains 'ell':\",\"ell\" in str1) "
   ]
  },
  {
   "cell_type": "code",
   "execution_count": 32,
   "id": "ab394a7d",
   "metadata": {},
   "outputs": [
    {
     "name": "stdout",
     "output_type": "stream",
     "text": [
      "For Loop - numbers 1 to 5\n",
      "1 2 3 4 5 \n",
      "For list items:\n",
      "Apple\n",
      "Banana\n",
      "Cherry\n"
     ]
    }
   ],
   "source": [
    "#For Loop\n",
    "print(\"For Loop - numbers 1 to 5\")\n",
    "for i in range(1,6):\n",
    "    print(i,end=\" \")\n",
    "\n",
    "print(\"\\nFor list items:\")\n",
    "fruits = [\"Apple\",\"Banana\",\"Cherry\"]\n",
    "for fruit in fruits:\n",
    "    print(fruit)\n"
   ]
  },
  {
   "cell_type": "code",
   "execution_count": 34,
   "id": "73713fd0",
   "metadata": {},
   "outputs": [
    {
     "name": "stdout",
     "output_type": "stream",
     "text": [
      "1\n",
      "Apple\n",
      "Banana\n",
      "Cherry\n",
      "2\n",
      "Apple\n",
      "Banana\n",
      "Cherry\n",
      "3\n",
      "Apple\n",
      "Banana\n",
      "Cherry\n",
      "4\n",
      "Apple\n",
      "Banana\n",
      "Cherry\n",
      "5\n",
      "Apple\n",
      "Banana\n",
      "Cherry\n"
     ]
    }
   ],
   "source": [
    "for i in range(1,6):\n",
    "    print(i)\n",
    "    fruits = [\"Apple\",\"Banana\",\"Cherry\"]\n",
    "    for fruit in fruits:\n",
    "        print(fruit)\n"
   ]
  },
  {
   "cell_type": "code",
   "execution_count": 35,
   "id": "406b1a10",
   "metadata": {
    "scrolled": true
   },
   "outputs": [
    {
     "name": "stdout",
     "output_type": "stream",
     "text": [
      "While loop-countdown:\n",
      "5\n",
      "4\n",
      "3\n",
      "2\n",
      "1\n",
      "Blast Off!\n"
     ]
    }
   ],
   "source": [
    "# While loop\n",
    "print(\"While loop-countdown:\")\n",
    "count = 5\n",
    "while count > 0:\n",
    "    print(count)\n",
    "    count -= 1\n",
    "print(\"Blast Off!\")"
   ]
  }
 ],
 "metadata": {
  "kernelspec": {
   "display_name": "Python 3 (ipykernel)",
   "language": "python",
   "name": "python3"
  },
  "language_info": {
   "codemirror_mode": {
    "name": "ipython",
    "version": 3
   },
   "file_extension": ".py",
   "mimetype": "text/x-python",
   "name": "python",
   "nbconvert_exporter": "python",
   "pygments_lexer": "ipython3",
   "version": "3.9.17"
  }
 },
 "nbformat": 4,
 "nbformat_minor": 5
}
