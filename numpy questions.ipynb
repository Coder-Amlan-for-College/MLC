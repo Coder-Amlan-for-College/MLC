{
 "cells": [
  {
   "cell_type": "code",
   "execution_count": 6,
   "id": "e185752d",
   "metadata": {},
   "outputs": [],
   "source": [
    "import numpy as np\n",
    "import math"
   ]
  },
  {
   "cell_type": "code",
   "execution_count": 17,
   "id": "05f7f03b",
   "metadata": {},
   "outputs": [
    {
     "name": "stdout",
     "output_type": "stream",
     "text": [
      "Matrix Multiplication: \n",
      "[[ 46  37  17]\n",
      " [ 79  70  27]\n",
      " [130 113  45]]\n",
      "Determinant:  -3.9999999999999973\n",
      "Inverse\n",
      "[[-1.   -1.    1.  ]\n",
      " [ 0.25  2.   -1.25]\n",
      " [ 0.5  -1.    0.5 ]]\n",
      "\n",
      "[[ 1.00000000e+00  0.00000000e+00  0.00000000e+00]\n",
      " [ 6.66133815e-16  1.00000000e+00 -4.44089210e-16]\n",
      " [ 8.32667268e-16  4.44089210e-16  1.00000000e+00]]\n"
     ]
    }
   ],
   "source": [
    "mat1 = np.array([[1,2,3],\n",
    "                 [3,4,4],\n",
    "                [5,6,7]])\n",
    "mat2 = np.array([[5,6,1],\n",
    "                 [7,8,2],\n",
    "                [9,5,4]])\n",
    "\n",
    "print(\"Matrix Multiplication: \", mat1 @ mat2,sep=\"\\n\")\n",
    "\n",
    "det = np.linalg.det(mat1)\n",
    "print(\"Determinant: \",det)\n",
    "\n",
    "if det==0:\n",
    "    print(\"Inverse not possible\")\n",
    "else:\n",
    "    inv_mat = np.linalg.inv(mat1)\n",
    "    print(\"Inverse\",inv_mat,sep=\"\\n\")\n",
    "print()\n",
    "if(det != 0):\n",
    "    i_mat = mat1 @ inv_mat\n",
    "    print(i_mat)"
   ]
  },
  {
   "cell_type": "code",
   "execution_count": 23,
   "id": "9bb7143b",
   "metadata": {},
   "outputs": [
    {
     "name": "stdout",
     "output_type": "stream",
     "text": [
      "Average: 55.0\n",
      "60\n",
      "70\n",
      "80\n",
      "90\n",
      "100\n"
     ]
    }
   ],
   "source": [
    "marks = [10,20,30,40,50,60,70,80,90,100]\n",
    "arr = np.array(marks)\n",
    "mean = np.mean(arr)\n",
    "print(\"Average:\",mean)\n",
    "for i in marks:\n",
    "    if i > mean:\n",
    "        print(i)"
   ]
  },
  {
   "cell_type": "code",
   "execution_count": null,
   "id": "a0119edd",
   "metadata": {},
   "outputs": [],
   "source": []
  }
 ],
 "metadata": {
  "kernelspec": {
   "display_name": "Python 3 (ipykernel)",
   "language": "python",
   "name": "python3"
  },
  "language_info": {
   "codemirror_mode": {
    "name": "ipython",
    "version": 3
   },
   "file_extension": ".py",
   "mimetype": "text/x-python",
   "name": "python",
   "nbconvert_exporter": "python",
   "pygments_lexer": "ipython3",
   "version": "3.9.17"
  }
 },
 "nbformat": 4,
 "nbformat_minor": 5
}
