{
 "cells": [
  {
   "cell_type": "markdown",
   "id": "f5fa6917",
   "metadata": {},
   "source": [
    "### Create series with ndarray"
   ]
  },
  {
   "cell_type": "code",
   "execution_count": 6,
   "id": "1478ccb6",
   "metadata": {},
   "outputs": [],
   "source": [
    "import pandas as pd\n",
    "import numpy as np"
   ]
  },
  {
   "cell_type": "code",
   "execution_count": 7,
   "id": "35150c10",
   "metadata": {},
   "outputs": [
    {
     "name": "stdout",
     "output_type": "stream",
     "text": [
      "0    Amlan\n",
      "1       11\n",
      "2       12\n",
      "3       13\n",
      "dtype: object\n"
     ]
    }
   ],
   "source": [
    "\n",
    "arr = np.array(['Amlan',11,12,13])\n",
    "series = pd.Series(arr)\n",
    "\n",
    "print(series)"
   ]
  },
  {
   "cell_type": "markdown",
   "id": "af25fa64",
   "metadata": {},
   "source": [
    "### Create series with mutable index"
   ]
  },
  {
   "cell_type": "code",
   "execution_count": 8,
   "id": "b143a5df",
   "metadata": {},
   "outputs": [
    {
     "name": "stdout",
     "output_type": "stream",
     "text": [
      "First     a\n",
      "Second    b\n",
      "Third     c\n",
      "Fourth    d\n",
      "dtype: object\n"
     ]
    }
   ],
   "source": [
    "arr = np.array(['a','b','c','d'])\n",
    "series = pd.Series(arr,index=['First','Second','Third','Fourth'])\n",
    "print(series)"
   ]
  },
  {
   "cell_type": "markdown",
   "id": "48fc0c42",
   "metadata": {},
   "source": [
    "### Creating a series with scalar values"
   ]
  },
  {
   "cell_type": "code",
   "execution_count": 11,
   "id": "312646fc",
   "metadata": {},
   "outputs": [
    {
     "name": "stdout",
     "output_type": "stream",
     "text": [
      "0    Amlan\n",
      "1    Amlan\n",
      "2    Amlan\n",
      "3    Amlan\n",
      "4    Amlan\n",
      "dtype: object\n"
     ]
    }
   ],
   "source": [
    "series = pd.Series('Amlan',index=[0,1,2,3,4])\n",
    "print(series)"
   ]
  },
  {
   "cell_type": "markdown",
   "id": "defb3d6d",
   "metadata": {},
   "source": [
    "### Addition of series"
   ]
  },
  {
   "cell_type": "code",
   "execution_count": 25,
   "id": "fee47ce7",
   "metadata": {},
   "outputs": [
    {
     "name": "stdout",
     "output_type": "stream",
     "text": [
      "1st   NaN\n",
      "2nd   NaN\n",
      "3rd   NaN\n",
      "4th   NaN\n",
      "0     NaN\n",
      "1     NaN\n",
      "2     NaN\n",
      "3     NaN\n",
      "dtype: float64\n"
     ]
    }
   ],
   "source": [
    "lst1 = [1,2,3,4]\n",
    "lst2 = [5,6,7,8]\n",
    "\n",
    "s1 = pd.Series(lst1,index=['1st','2nd','3rd','4th'])\n",
    "s2 = pd.Series(lst2)\n",
    "\n",
    "print(s1+s2) \n",
    "#jahan missing hoga udhar Nan aajayega, \n",
    "#dono series ka indexing same hona chahiye jaahan different hoga udhar NaN aayega"
   ]
  },
  {
   "cell_type": "code",
   "execution_count": 26,
   "id": "0fadb7ad",
   "metadata": {},
   "outputs": [
    {
     "name": "stdout",
     "output_type": "stream",
     "text": [
      "1st     6.0\n",
      "2nd     8.0\n",
      "3rd    10.0\n",
      "4th    12.0\n",
      "5th     NaN\n",
      "dtype: float64\n"
     ]
    }
   ],
   "source": [
    "lst1 = [1,2,3,4]\n",
    "lst2 = [5,6,7,8,9]\n",
    "\n",
    "s1 = pd.Series(lst1,index=['1st','2nd','3rd','4th'])\n",
    "s2 = pd.Series(lst2,index=['1st','2nd','3rd','4th','5th'])\n",
    "\n",
    "print(s1+s2)"
   ]
  },
  {
   "cell_type": "code",
   "execution_count": 22,
   "id": "ce7a2d62",
   "metadata": {},
   "outputs": [
    {
     "name": "stdout",
     "output_type": "stream",
     "text": [
      "1st     6\n",
      "2nd     8\n",
      "3rd    10\n",
      "4th    12\n",
      "dtype: int64\n"
     ]
    }
   ],
   "source": [
    "lst1 = [1,2,3,4]\n",
    "lst2 = [5,6,7,8]\n",
    "\n",
    "s1 = pd.Series(lst1,index=['1st','2nd','3rd','4th'])\n",
    "s2 = pd.Series(lst2,index=['1st','2nd','3rd','4th'])\n",
    "\n",
    "print(s1+s2)"
   ]
  },
  {
   "cell_type": "markdown",
   "id": "6076f2db",
   "metadata": {},
   "source": [
    "### Head and Tail in pandas"
   ]
  },
  {
   "cell_type": "code",
   "execution_count": 36,
   "id": "a1046054",
   "metadata": {},
   "outputs": [
    {
     "name": "stdout",
     "output_type": "stream",
     "text": [
      "0          10\n",
      "1          11\n",
      "2          12\n",
      "3       Amlan\n",
      "4    Anshuman\n",
      "dtype: object\n",
      "\n",
      "0    10\n",
      "1    11\n",
      "2    12\n",
      "dtype: object\n",
      "\n",
      "\n",
      "2          12\n",
      "3       Amlan\n",
      "4    Anshuman\n",
      "5      123.56\n",
      "6       78.98\n",
      "dtype: object\n",
      "\n",
      "4    Anshuman\n",
      "5      123.56\n",
      "6       78.98\n",
      "dtype: object\n"
     ]
    }
   ],
   "source": [
    "arr = np.array([10,11,12,'Amlan','Anshuman',123.56,78.98])\n",
    "ser = pd.Series(arr)\n",
    "#head\n",
    "print(ser.head(),end=\"\\n\\n\")\n",
    "print(ser.head(3))\n",
    "print('\\n')\n",
    "#tail\n",
    "print(ser.tail(),end=\"\\n\\n\")\n",
    "print(ser.tail(3))\n"
   ]
  },
  {
   "cell_type": "code",
   "execution_count": 41,
   "id": "f6eb5000",
   "metadata": {},
   "outputs": [
    {
     "name": "stdout",
     "output_type": "stream",
     "text": [
      "0    10\n",
      "1    15\n",
      "2    18\n",
      "3    22\n",
      "4    25\n",
      "5    27\n",
      "dtype: int64\n",
      "0    10\n",
      "1    15\n",
      "2    18\n",
      "dtype: int64\n",
      "3    22\n",
      "4    25\n",
      "dtype: int64\n",
      "2    18\n",
      "3    22\n",
      "dtype: int64\n"
     ]
    }
   ],
   "source": [
    "arr = np.array([10,15,18,22,25,27])\n",
    "s = pd.Series(arr)\n",
    "#loc[startindex:endIndex] isme endIndex include hota hei\n",
    "print(s)\n",
    "print(s.loc[:2])\n",
    "print(s.loc[3:4])\n",
    "print(s.loc[2:3])"
   ]
  },
  {
   "cell_type": "code",
   "execution_count": 42,
   "id": "3cf8d5e6",
   "metadata": {},
   "outputs": [
    {
     "name": "stdout",
     "output_type": "stream",
     "text": [
      "0    10\n",
      "1    15\n",
      "2    18\n",
      "3    22\n",
      "4    25\n",
      "5    27\n",
      "dtype: int64\n",
      "0    10\n",
      "1    15\n",
      "dtype: int64\n",
      "3    22\n",
      "dtype: int64\n",
      "2    18\n",
      "dtype: int64\n"
     ]
    }
   ],
   "source": [
    "print(s)\n",
    "#iloc[startindex:endIndex] isme endIndex exclude hota hei\n",
    "print(s.iloc[:2])\n",
    "print(s.iloc[3:4])\n",
    "print(s.iloc[2:3])"
   ]
  },
  {
   "cell_type": "code",
   "execution_count": 43,
   "id": "ab20935d",
   "metadata": {},
   "outputs": [
    {
     "name": "stdout",
     "output_type": "stream",
     "text": [
      "5    27\n",
      "4    25\n",
      "3    22\n",
      "2    18\n",
      "1    15\n",
      "0    10\n",
      "dtype: int64\n",
      "5    27\n",
      "4    25\n",
      "3    22\n",
      "2    18\n",
      "1    15\n",
      "0    10\n",
      "dtype: int64\n"
     ]
    }
   ],
   "source": [
    "print(s.iloc[::-1])\n",
    "print(s.loc[::-1])"
   ]
  },
  {
   "cell_type": "code",
   "execution_count": 45,
   "id": "fbfc9c69",
   "metadata": {},
   "outputs": [
    {
     "name": "stdout",
     "output_type": "stream",
     "text": [
      "1st    10.02\n",
      "2nd       15\n",
      "3rd       18\n",
      "4th       22\n",
      "5th       25\n",
      "6th       27\n",
      "dtype: object\n",
      "1st    10.02\n",
      "2nd       15\n",
      "dtype: object\n",
      "4th    22\n",
      "dtype: object\n",
      "3rd    18\n",
      "dtype: object\n"
     ]
    }
   ],
   "source": [
    "arr = np.array([10.02,\"15\",18,22,25,27])\n",
    "s = pd.Series(arr,index=['1st','2nd','3rd','4th','5th','6th'])\n",
    "print(s)\n",
    "#iloc[startindex:endIndex] isme endIndex exclude hota hei\n",
    "print(s.iloc[:2])\n",
    "print(s.iloc[3:4])\n",
    "print(s.iloc[2:3])"
   ]
  },
  {
   "cell_type": "markdown",
   "id": "d6a9fe70",
   "metadata": {},
   "source": [
    "### Convert Dictionary to Series"
   ]
  },
  {
   "cell_type": "code",
   "execution_count": 48,
   "id": "957a107b",
   "metadata": {},
   "outputs": [
    {
     "data": {
      "text/plain": [
       "{1: 'Amlan', 2: 'Anshuman', 3: 'Nayak'}"
      ]
     },
     "execution_count": 48,
     "metadata": {},
     "output_type": "execute_result"
    }
   ],
   "source": [
    "dic = {1:\"Amlan\",2:\"Anshuman\",3:\"Nayak\"}\n",
    "dic"
   ]
  },
  {
   "cell_type": "code",
   "execution_count": 50,
   "id": "176ee509",
   "metadata": {},
   "outputs": [
    {
     "name": "stdout",
     "output_type": "stream",
     "text": [
      "1       Amlan\n",
      "2    Anshuman\n",
      "3       Nayak\n",
      "dtype: object\n"
     ]
    }
   ],
   "source": [
    "ser = pd.Series(dic)\n",
    "print(ser)"
   ]
  },
  {
   "cell_type": "code",
   "execution_count": null,
   "id": "d0a12699",
   "metadata": {},
   "outputs": [],
   "source": []
  }
 ],
 "metadata": {
  "kernelspec": {
   "display_name": "Python 3 (ipykernel)",
   "language": "python",
   "name": "python3"
  },
  "language_info": {
   "codemirror_mode": {
    "name": "ipython",
    "version": 3
   },
   "file_extension": ".py",
   "mimetype": "text/x-python",
   "name": "python",
   "nbconvert_exporter": "python",
   "pygments_lexer": "ipython3",
   "version": "3.9.17"
  }
 },
 "nbformat": 4,
 "nbformat_minor": 5
}
