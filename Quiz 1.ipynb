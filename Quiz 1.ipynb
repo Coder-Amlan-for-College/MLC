{
 "cells": [
  {
   "cell_type": "code",
   "execution_count": 3,
   "id": "d24f92e1",
   "metadata": {},
   "outputs": [
    {
     "name": "stdout",
     "output_type": "stream",
     "text": [
      "Enter the String: Amlan\n",
      "Reversed String: nalmA\n"
     ]
    }
   ],
   "source": [
    "#Q1 Reverse a string without slicing\n",
    "s = input(\"Enter the String: \")\n",
    "rev = \"\"\n",
    "for i in range(len(s)-1,-1,-1):\n",
    "    rev += s[i]\n",
    "print(\"Reversed String:\",rev)"
   ]
  },
  {
   "cell_type": "code",
   "execution_count": 7,
   "id": "6ede0694",
   "metadata": {},
   "outputs": [
    {
     "name": "stdout",
     "output_type": "stream",
     "text": [
      "Enter the String: Amlan\n",
      "Vowel count: 2\n"
     ]
    }
   ],
   "source": [
    "#Q2 count the number of vowels in a string\n",
    "s = input(\"Enter the String: \")\n",
    "s = s.lower()\n",
    "c = 0\n",
    "for i in s:\n",
    "    if(i=='a' or i=='e' or i=='i' or i=='o' or i=='u'):\n",
    "        c += 1\n",
    "print(\"Vowel count:\",c)"
   ]
  },
  {
   "cell_type": "code",
   "execution_count": 10,
   "id": "f85d18d9",
   "metadata": {},
   "outputs": [
    {
     "name": "stdout",
     "output_type": "stream",
     "text": [
      "Enter a list: 1,2,3,3,4\n",
      "[1, 2, 3, 4]\n"
     ]
    }
   ],
   "source": [
    "#Q3 Given a list create a new list containing the unique elements in the same order\n",
    "lst = eval(input(\"Enter a list: \"))\n",
    "newlst = []\n",
    "\n",
    "for i in lst:\n",
    "    if(i in newlst):\n",
    "        continue\n",
    "    newlst.append(i)\n",
    "\n",
    "print(newlst)\n"
   ]
  },
  {
   "cell_type": "code",
   "execution_count": 22,
   "id": "fa16c292",
   "metadata": {},
   "outputs": [
    {
     "name": "stdout",
     "output_type": "stream",
     "text": [
      "Enter a sentence: hello world world hello\n"
     ]
    },
    {
     "data": {
      "text/plain": [
       "{'hello ': 2, 'world ': 2}"
      ]
     },
     "execution_count": 22,
     "metadata": {},
     "output_type": "execute_result"
    }
   ],
   "source": [
    "#Q4\n",
    "import numpy as np\n",
    "sen = input(\"Enter a sentence: \")\n",
    "sen = sen.lower()\n",
    "sen += \" \"\n",
    "words = []\n",
    "word = \"\"\n",
    "for i in sen:\n",
    "    word += i\n",
    "    if(i == \" \"):\n",
    "        words.append(word)\n",
    "        word = \"\"\n",
    "dic = {}\n",
    "for word in words:\n",
    "    count = 0\n",
    "    for w in words:\n",
    "        if(w == word):\n",
    "            count += 1\n",
    "    dic[word] = count\n",
    "dic"
   ]
  },
  {
   "cell_type": "code",
   "execution_count": 32,
   "id": "9d058b24",
   "metadata": {},
   "outputs": [
    {
     "name": "stdout",
     "output_type": "stream",
     "text": [
      "Enter a 2D array: [1,2,3],[4,5,6],[7,8,9]\n",
      "Sum of row 0 is: 6\n",
      "Sum of row 1 is: 15\n",
      "Sum of row 2 is: 24\n",
      "\n",
      "\n",
      "Sum of col 0 is: 12\n",
      "Sum of col 1 is: 15\n",
      "Sum of col 2 is: 18\n"
     ]
    }
   ],
   "source": [
    "#Q5\n",
    "import numpy as np\n",
    "inp = eval(input(\"Enter a 2D array: \"))\n",
    "arr = np.array(inp)\n",
    "for row in range(0,len(arr)):\n",
    "    s = 0\n",
    "    for col in range(0,len(arr[0])):\n",
    "        s += arr[row][col]\n",
    "    print(f\"Sum of row {row} is: {s}\")\n",
    "\n",
    "print(\"\\n\")\n",
    "for col in range(0,len(arr[0])):\n",
    "    s = 0\n",
    "    for row in range(0,len(arr)):\n",
    "        s += arr[row][col]\n",
    "    print(f\"Sum of col {col} is: {s}\")"
   ]
  },
  {
   "cell_type": "code",
   "execution_count": 30,
   "id": "dba94364",
   "metadata": {},
   "outputs": [
    {
     "name": "stdout",
     "output_type": "stream",
     "text": [
      "[14 10 16  7 18  3 14 17  4  9]\n",
      "14\n",
      "16\n",
      "18\n",
      "14\n",
      "17\n"
     ]
    }
   ],
   "source": [
    "#Q6\n",
    "import numpy as np\n",
    "\n",
    "arr = np.array(np.random.randint(1,21,10))\n",
    "print(arr)\n",
    "\n",
    "for i in arr:\n",
    "    if(i > 10):\n",
    "        print(i)"
   ]
  }
 ],
 "metadata": {
  "kernelspec": {
   "display_name": "Python 3 (ipykernel)",
   "language": "python",
   "name": "python3"
  },
  "language_info": {
   "codemirror_mode": {
    "name": "ipython",
    "version": 3
   },
   "file_extension": ".py",
   "mimetype": "text/x-python",
   "name": "python",
   "nbconvert_exporter": "python",
   "pygments_lexer": "ipython3",
   "version": "3.9.17"
  }
 },
 "nbformat": 4,
 "nbformat_minor": 5
}
