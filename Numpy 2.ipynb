{
 "cells": [
  {
   "cell_type": "code",
   "execution_count": 2,
   "id": "f0184925",
   "metadata": {},
   "outputs": [],
   "source": [
    "import numpy as np"
   ]
  },
  {
   "cell_type": "code",
   "execution_count": 6,
   "id": "8e072612",
   "metadata": {},
   "outputs": [],
   "source": [
    "arr = np.array([\"Amlan\",\"ITER\",\"2G3\"])"
   ]
  },
  {
   "cell_type": "code",
   "execution_count": 8,
   "id": "f2184b39",
   "metadata": {},
   "outputs": [
    {
     "name": "stdout",
     "output_type": "stream",
     "text": [
      "Amlan ITER 2G3\n"
     ]
    }
   ],
   "source": [
    "print(arr[0],arr[1],arr[2])"
   ]
  },
  {
   "cell_type": "code",
   "execution_count": 10,
   "id": "4a45a977",
   "metadata": {},
   "outputs": [],
   "source": [
    "two_d_arr = np.array([[2,3],\n",
    "                    [4,5]])"
   ]
  },
  {
   "cell_type": "code",
   "execution_count": 15,
   "id": "371b6e6c",
   "metadata": {},
   "outputs": [
    {
     "name": "stdout",
     "output_type": "stream",
     "text": [
      "2 3 \n",
      "4 5 \n"
     ]
    }
   ],
   "source": [
    "for i in range(0,len(two_d_arr)):\n",
    "    for j in range(0,len(two_d_arr)):\n",
    "        print(two_d_arr[i][j],end = \" \")\n",
    "    print()"
   ]
  },
  {
   "cell_type": "markdown",
   "id": "d6e9ac43",
   "metadata": {},
   "source": [
    "### Slicing"
   ]
  },
  {
   "cell_type": "code",
   "execution_count": 51,
   "id": "76639ac5",
   "metadata": {},
   "outputs": [
    {
     "name": "stdout",
     "output_type": "stream",
     "text": [
      "1\n",
      "2\n",
      "[2 3 4]\n"
     ]
    }
   ],
   "source": [
    "a = np.array([1,2,3,4])\n",
    "print(a[0])#first element\n",
    "print(a[1])#last element\n",
    "print(a[1:4])#slicing"
   ]
  },
  {
   "cell_type": "code",
   "execution_count": 26,
   "id": "7bb5d32b",
   "metadata": {},
   "outputs": [
    {
     "name": "stdout",
     "output_type": "stream",
     "text": [
      "4\n",
      "[3 6 9]\n",
      "[4 5 6]\n"
     ]
    }
   ],
   "source": [
    "### Create a 2D array of dimension 3x3.\n",
    "### print the element in row 2 column 1\n",
    "### print all rows in 3rd column\n",
    "### print 2nd row all columns\n",
    "\n",
    "\n",
    "b = np.array([[1,2,3],\n",
    "             [4,5,6],\n",
    "             [7,8,9]])\n",
    "print(b[1,0])\n",
    "print(b[:,2])\n",
    "print(b[1,:])"
   ]
  },
  {
   "cell_type": "code",
   "execution_count": 32,
   "id": "e1e7091f",
   "metadata": {},
   "outputs": [
    {
     "name": "stdout",
     "output_type": "stream",
     "text": [
      "Sum: [5 7 9]\n",
      "Product: [ 4 10 18]\n",
      "Square of x: [1 4 9]\n",
      "Square root of x: [1.         1.41421356 1.73205081]\n",
      "Exponentiation: [ 2.71828183  7.3890561  20.08553692]\n",
      "Sin of x: [0.84147098 0.90929743 0.14112001]\n"
     ]
    }
   ],
   "source": [
    "x = np.array([1,2,3])\n",
    "y = np.array([4,5,6])\n",
    "print(\"Sum:\",x+y)\n",
    "print(\"Product:\",x*y)\n",
    "print(\"Square of x:\",x**2)\n",
    "print(\"Square root of x:\",np.sqrt(x))\n",
    "print(\"Exponentiation:\",np.exp(x))\n",
    "print(\"Sin of x:\",np.sin(x))"
   ]
  },
  {
   "cell_type": "markdown",
   "id": "ea178b17",
   "metadata": {},
   "source": [
    "### Create 2*2 matrix do multiplicatin,dot product and tranpose"
   ]
  },
  {
   "cell_type": "code",
   "execution_count": 36,
   "id": "eee7874e",
   "metadata": {},
   "outputs": [
    {
     "name": "stdout",
     "output_type": "stream",
     "text": [
      "[[19 22]\n",
      " [43 50]]\n",
      "[[19 22]\n",
      " [43 50]]\n",
      "[[1 3]\n",
      " [2 4]]\n"
     ]
    }
   ],
   "source": [
    "\n",
    "m1 = np.array([[1,2],\n",
    "               [3,4]])\n",
    "m2 = np.array([[5,6],\n",
    "               [7,8]])\n",
    "print(m1 @ m2)#matrix multiplication\n",
    "print(np.dot(m1,m2))#dot product\n",
    "print(m1.T)#Transpose"
   ]
  },
  {
   "cell_type": "markdown",
   "id": "ce318f84",
   "metadata": {},
   "source": [
    "### sum,mean,max,min an std of 1D matrix"
   ]
  },
  {
   "cell_type": "code",
   "execution_count": 39,
   "id": "989960f1",
   "metadata": {},
   "outputs": [
    {
     "name": "stdout",
     "output_type": "stream",
     "text": [
      "15\n",
      "3.0\n",
      "5\n",
      "1\n",
      "1.4142135623730951\n"
     ]
    }
   ],
   "source": [
    "nums = np.array([1,2,3,4,5])\n",
    "print(nums.sum())\n",
    "print(nums.mean())\n",
    "print(nums.max())\n",
    "print(nums.min())\n",
    "print(nums.std())"
   ]
  },
  {
   "cell_type": "markdown",
   "id": "7b898334",
   "metadata": {},
   "source": [
    "### Arange Function"
   ]
  },
  {
   "cell_type": "code",
   "execution_count": 43,
   "id": "3c36516a",
   "metadata": {},
   "outputs": [
    {
     "name": "stdout",
     "output_type": "stream",
     "text": [
      "[[ 1  2  3  4]\n",
      " [ 5  6  7  8]\n",
      " [ 9 10 11 12]]\n",
      "[ 1  2  3  4  5  6  7  8  9 10 11 12]\n"
     ]
    }
   ],
   "source": [
    "arr = np.arange(1,13)\n",
    "\n",
    "reshaped = arr.reshape(3,4)\n",
    "print(reshaped)\n",
    "\n",
    "flattened = reshaped.flatten()\n",
    "print(flattened)"
   ]
  },
  {
   "cell_type": "markdown",
   "id": "aed51da4",
   "metadata": {},
   "source": [
    "### Random"
   ]
  },
  {
   "cell_type": "code",
   "execution_count": 48,
   "id": "d0f1b88a",
   "metadata": {},
   "outputs": [
    {
     "name": "stdout",
     "output_type": "stream",
     "text": [
      "[0.56595336 0.22669767 0.55219901]\n",
      "[9 8 3 5 2]\n",
      "[[0.91592435 0.48852979 0.94167399]\n",
      " [0.77902952 0.90233082 0.82619124]]\n"
     ]
    }
   ],
   "source": [
    "print(np.random.rand(3))        #Three random numbers\n",
    "print(np.random.randint(1,10,5))#5 random numbers of int type in range from [1,10)\n",
    "print(np.random.rand(2,3))      #float matrix of 2x3"
   ]
  },
  {
   "cell_type": "code",
   "execution_count": 50,
   "id": "fd57c971",
   "metadata": {},
   "outputs": [
    {
     "name": "stdout",
     "output_type": "stream",
     "text": [
      "[ 1.  2.  3.  4.  5.  6.  7.  8.  9. 10. 11. 12.]\n"
     ]
    }
   ],
   "source": [
    "arr_float = arr.astype(float)\n",
    "print(arr_float)"
   ]
  },
  {
   "cell_type": "code",
   "execution_count": null,
   "id": "1d962489",
   "metadata": {},
   "outputs": [],
   "source": []
  }
 ],
 "metadata": {
  "kernelspec": {
   "display_name": "Python 3 (ipykernel)",
   "language": "python",
   "name": "python3"
  },
  "language_info": {
   "codemirror_mode": {
    "name": "ipython",
    "version": 3
   },
   "file_extension": ".py",
   "mimetype": "text/x-python",
   "name": "python",
   "nbconvert_exporter": "python",
   "pygments_lexer": "ipython3",
   "version": "3.9.17"
  }
 },
 "nbformat": 4,
 "nbformat_minor": 5
}
